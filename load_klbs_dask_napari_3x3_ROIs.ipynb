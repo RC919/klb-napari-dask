{
 "cells": [
  {
   "cell_type": "code",
   "execution_count": 1,
   "metadata": {},
   "outputs": [
    {
     "name": "stderr",
     "output_type": "stream",
     "text": [
      "D:\\Anaconda3\\envs\\denoising\\lib\\site-packages\\numpy\\_distributor_init.py:32: UserWarning: loaded more than 1 DLL from .libs:\n",
      "D:\\Anaconda3\\envs\\denoising\\lib\\site-packages\\numpy\\.libs\\libopenblas.PYQHXLVVQ7VESDPUVUADXEVJOBGHJPAY.gfortran-win_amd64.dll\n",
      "D:\\Anaconda3\\envs\\denoising\\lib\\site-packages\\numpy\\.libs\\libopenblas.TXA6YQSD3GCQQC22GEQ54J2UDCXDXHWN.gfortran-win_amd64.dll\n",
      "  stacklevel=1)\n",
      "D:\\Anaconda3\\envs\\denoising\\lib\\site-packages\\napari\\__init__.py:27: UserWarning: \n",
      "    napari was tested with QT library `>=5.12.3`.\n",
      "    The version installed is 5.9.6. Please report any issues with this\n",
      "    specific QT version at https://github.com/Napari/napari/issues.\n",
      "    \n",
      "  warn(message=warn_message)\n"
     ]
    }
   ],
   "source": [
    "from os.path import join\n",
    "from glob import glob\n",
    "import numpy as np\n",
    "import dask\n",
    "import dask.array as da\n",
    "import pyklb as klb\n",
    "import napari\n",
    "import time"
   ]
  },
  {
   "cell_type": "code",
   "execution_count": 2,
   "metadata": {},
   "outputs": [],
   "source": [
    "#Use opportunistic caching \n",
    "from dask.cache import Cache\n",
    "cache = Cache(2e9)  # Leverage some memory\n",
    "cache.register()    # Turn cache on globally"
   ]
  },
  {
   "cell_type": "code",
   "execution_count": 3,
   "metadata": {},
   "outputs": [],
   "source": [
    "inPath = 'W:/SV3/RC_15-06-11/Dme_E2_His2AvRFP_spiderGFP_12-03_20150611_155054.corrected/Results/TimeFused/'\n",
    "fnames = glob(join(inPath, '*/*CM00_CHN00.fusedStack.klb' ))\n",
    "fnames.sort()\n",
    "\n",
    "sample_full = klb.readfull(fnames[0]) #Sample image with klb.readfull\n",
    "z= sample_full.shape[0]\n",
    "y= sample_full.shape[1]\n",
    "x= sample_full.shape[2]"
   ]
  },
  {
   "cell_type": "code",
   "execution_count": 4,
   "metadata": {},
   "outputs": [
    {
     "name": "stdout",
     "output_type": "stream",
     "text": [
      "(75, 256, 616) uint16\n"
     ]
    }
   ],
   "source": [
    "# Segment each XY-image in the 3D stack is into a 3x3 grid\n",
    "\n",
    "# X and Y strides to segment the each XY-image\n",
    "y_stride= y/3\n",
    "x_stride= x/3\n",
    "\n",
    "ROIs_lobo = ([0,0,0],\n",
    "             [0,y_stride,0],\n",
    "             [0,2*y_stride,0],\n",
    "             \n",
    "             [0,0,x_stride],\n",
    "             [0,y_stride,x_stride],\n",
    "             [0,2*y_stride,x_stride],\n",
    "             \n",
    "             [0,0,2*x_stride],\n",
    "             [0,y_stride,2*x_stride],\n",
    "             [0,2*y_stride,2*x_stride]) \n",
    "\n",
    "\n",
    "ROIs_upbo = ([z-1,y_stride-1,x_stride-1],\n",
    "             [z-1,2*y_stride-1,x_stride-1],\n",
    "             [z-1,3*y_stride-1,x_stride-1],\n",
    "             \n",
    "             [z-1,y_stride-1,2*x_stride-1],\n",
    "             [z-1,2*y_stride-1,2*x_stride-1],\n",
    "             [z-1,3*y_stride-1,2*x_stride-1],\n",
    "             \n",
    "             [z-1,y_stride-1,3*x_stride-1],\n",
    "             [z-1,2*y_stride-1,3*x_stride-1],\n",
    "             [z-1,3*y_stride-1,3*x_stride-1]) \n",
    "\n",
    "sample = klb.readroi(fnames[0], ROIs_lobo[0], ROIs_upbo[0]) #Sample image with klb.readroi\n",
    "print(sample.shape, sample.dtype)"
   ]
  },
  {
   "cell_type": "markdown",
   "metadata": {},
   "source": [
    "### Generate lazy arrays:"
   ]
  },
  {
   "cell_type": "code",
   "execution_count": 5,
   "metadata": {},
   "outputs": [
    {
     "data": {
      "text/plain": [
       "9"
      ]
     },
     "execution_count": 5,
     "metadata": {},
     "output_type": "execute_result"
    }
   ],
   "source": [
    "# For each ROI, lazily evaluate klb.readroi with dask.delayed \n",
    "lazy_values = [[dask.delayed(klb.readroi)(fn,ROIs_lobo[i], ROIs_upbo[i]) for fn in fnames] for i in range(len(ROIs_lobo))]\n",
    "len(lazy_values)"
   ]
  },
  {
   "cell_type": "code",
   "execution_count": 6,
   "metadata": {},
   "outputs": [
    {
     "name": "stdout",
     "output_type": "stream",
     "text": [
      "<class 'dask.array.core.Array'> (2701, 75, 768, 1848) uint16\n",
      "Image-data on disk: 535.52 GB (uncompressed)\n",
      "Chunksize: (1, 75, 256, 616)\n",
      "Took 3.18 sec\n"
     ]
    }
   ],
   "source": [
    "#Construct lazy dask arrays for all lazy values\n",
    "start = time.time()\n",
    "lazy_arrays_0 = [da.from_delayed(lazy_value,\n",
    "                               shape=sample.shape,\n",
    "                               dtype=sample.dtype)\n",
    "               for lazy_value in lazy_values[0]]\n",
    "\n",
    "lazy_arrays_1 = [da.from_delayed(lazy_value,\n",
    "                               shape=sample.shape,\n",
    "                               dtype=sample.dtype)\n",
    "               for lazy_value in lazy_values[1]]\n",
    "\n",
    "lazy_arrays_2 = [da.from_delayed(lazy_value,\n",
    "                               shape=sample.shape,\n",
    "                               dtype=sample.dtype)\n",
    "               for lazy_value in lazy_values[2]]\n",
    "\n",
    "lazy_arrays_3 = [da.from_delayed(lazy_value,\n",
    "                               shape=sample.shape,\n",
    "                               dtype=sample.dtype)\n",
    "               for lazy_value in lazy_values[3]]\n",
    "\n",
    "lazy_arrays_4 = [da.from_delayed(lazy_value,\n",
    "                               shape=sample.shape,\n",
    "                               dtype=sample.dtype)\n",
    "               for lazy_value in lazy_values[4]]\n",
    "\n",
    "lazy_arrays_5 = [da.from_delayed(lazy_value,\n",
    "                               shape=sample.shape,\n",
    "                               dtype=sample.dtype)\n",
    "               for lazy_value in lazy_values[5]]\n",
    "\n",
    "lazy_arrays_6 = [da.from_delayed(lazy_value,\n",
    "                               shape=sample.shape,\n",
    "                               dtype=sample.dtype)\n",
    "               for lazy_value in lazy_values[6]]\n",
    "\n",
    "lazy_arrays_7 = [da.from_delayed(lazy_value,\n",
    "                               shape=sample.shape,\n",
    "                               dtype=sample.dtype)\n",
    "               for lazy_value in lazy_values[7]]\n",
    "\n",
    "lazy_arrays_8 = [da.from_delayed(lazy_value,\n",
    "                               shape=sample.shape,\n",
    "                               dtype=sample.dtype)\n",
    "               for lazy_value in lazy_values[8]]\n",
    "\n",
    "#Concatenate the ROIs\n",
    "foo = da.concatenate([lazy_arrays_0, lazy_arrays_1, lazy_arrays_2], axis = 2)\n",
    "fee = da.concatenate([lazy_arrays_3, lazy_arrays_4, lazy_arrays_5], axis = 2)\n",
    "foos = da.concatenate([lazy_arrays_6, lazy_arrays_7, lazy_arrays_8], axis = 2)\n",
    "a = da.concatenate([foo, fee, foos], axis = 3)\n",
    "\n",
    "print(type(a), a.shape, a.dtype)\n",
    "print('Image-data on disk:', 2*round(a.size/(1024**3),2), 'GB (uncompressed)')\n",
    "print('Chunksize:', a.chunksize)\n",
    "print('Took', round(time.time()-start,2), 'sec')"
   ]
  },
  {
   "cell_type": "markdown",
   "metadata": {},
   "source": [
    "###  Initialize the GUI first"
   ]
  },
  {
   "cell_type": "code",
   "execution_count": 7,
   "metadata": {},
   "outputs": [],
   "source": [
    "%gui qt5"
   ]
  },
  {
   "cell_type": "markdown",
   "metadata": {},
   "source": [
    "### Create a napari viewer and add the image as a layer"
   ]
  },
  {
   "cell_type": "code",
   "execution_count": 8,
   "metadata": {},
   "outputs": [
    {
     "data": {
      "text/plain": [
       "<Image layer 'membrane' at 0x27e6281e808>"
      ]
     },
     "execution_count": 8,
     "metadata": {},
     "output_type": "execute_result"
    }
   ],
   "source": [
    "import napari\n",
    "viewer = napari.Viewer(axis_labels = ['t','z','y','x'])\n",
    "viewer.add_image(a,\n",
    "                 scale = [1,8,1,1],\n",
    "                 colormap='inferno',\n",
    "                 blending='additive',\n",
    "                 name='membrane',\n",
    "                 is_pyramid = False,\n",
    "                 rgb = False,\n",
    "                 contrast_limits = [10,255])"
   ]
  },
  {
   "cell_type": "code",
   "execution_count": null,
   "metadata": {},
   "outputs": [],
   "source": []
  }
 ],
 "metadata": {
  "kernelspec": {
   "display_name": "Python 3",
   "language": "python",
   "name": "python3"
  },
  "language_info": {
   "codemirror_mode": {
    "name": "ipython",
    "version": 3
   },
   "file_extension": ".py",
   "mimetype": "text/x-python",
   "name": "python",
   "nbconvert_exporter": "python",
   "pygments_lexer": "ipython3",
   "version": "3.7.4"
  }
 },
 "nbformat": 4,
 "nbformat_minor": 2
}
