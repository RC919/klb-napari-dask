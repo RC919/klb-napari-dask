{
 "cells": [
  {
   "cell_type": "code",
   "execution_count": null,
   "metadata": {},
   "outputs": [],
   "source": [
    "from os.path import join\n",
    "from glob import glob\n",
    "import numpy as np\n",
    "import dask\n",
    "import dask.array as da\n",
    "import pyklb as klb\n",
    "import napari\n",
    "import time"
   ]
  },
  {
   "cell_type": "code",
   "execution_count": null,
   "metadata": {},
   "outputs": [],
   "source": [
    "#Use opportunistic caching \n",
    "from dask.cache import Cache\n",
    "cache = Cache(8e9)  # Leverage some memory\n",
    "cache.register()    # Turn cache on globally"
   ]
  },
  {
   "cell_type": "code",
   "execution_count": null,
   "metadata": {},
   "outputs": [],
   "source": [
    "inPath = 'W:/SV3/RC_15-06-11/Dme_E2_His2AvRFP_spiderGFP_12-03_20150611_155054.corrected/Results/TimeFused/'\n",
    "fnames = glob(join(inPath, '*/*CM00_CHN00.fusedStack.klb' ))\n",
    "fnames.sort()\n",
    "\n",
    "sample_full = klb.readfull(fnames[0]) #Sample image with klb.readfull\n",
    "z= sample_full.shape[0]\n",
    "y= sample_full.shape[1]\n",
    "x= sample_full.shape[2]"
   ]
  },
  {
   "cell_type": "code",
   "execution_count": null,
   "metadata": {},
   "outputs": [],
   "source": [
    "# Segment each XY-image in the 3D stack is into a 2x2 grid\n",
    "\n",
    "# X and Y strides to segment the each XY-image\n",
    "y_stride= y/2\n",
    "x_stride= x/2\n",
    "\n",
    "ROIs_lobo = ([0,0,0],\n",
    "             [0,y_stride,0],\n",
    "             \n",
    "             [0,0,x_stride],\n",
    "             [0,y_stride,x_stride]) \n",
    "\n",
    "ROIs_upbo = ([z-1,y_stride-1,x_stride-1],\n",
    "             [z-1,2*y_stride-1,x_stride-1],\n",
    "             \n",
    "             [z-1,y_stride-1,2*x_stride-1],\n",
    "             [z-1,2*y_stride-1,2*x_stride-1])\n",
    "\n",
    "sample = klb.readroi(fnames[0], ROIs_lobo[0], ROIs_upbo[0]) #Sample image with klb.readroi\n",
    "print(sample.shape, sample.dtype)"
   ]
  },
  {
   "cell_type": "markdown",
   "metadata": {},
   "source": [
    "### Generate lazy arrays:"
   ]
  },
  {
   "cell_type": "code",
   "execution_count": null,
   "metadata": {},
   "outputs": [],
   "source": [
    "# For each ROI, lazily evaluate klb.readroi with dask.delayed \n",
    "lazy_values = [[dask.delayed(klb.readroi)(fn,ROIs_lobo[i], ROIs_upbo[i]) for fn in fnames] for i in range(len(ROIs_lobo))]"
   ]
  },
  {
   "cell_type": "code",
   "execution_count": null,
   "metadata": {},
   "outputs": [],
   "source": [
    "#Construct lazy dask arrays for all lazy values\n",
    "start = time.time()\n",
    "lazy_arrays_0 = [da.from_delayed(lazy_value,\n",
    "                               shape=sample.shape,\n",
    "                               dtype=sample.dtype)\n",
    "               for lazy_value in lazy_values[0]]\n",
    "\n",
    "lazy_arrays_1 = [da.from_delayed(lazy_value,\n",
    "                               shape=sample.shape,\n",
    "                               dtype=sample.dtype)\n",
    "               for lazy_value in lazy_values[1]]\n",
    "\n",
    "lazy_arrays_2 = [da.from_delayed(lazy_value,\n",
    "                               shape=sample.shape,\n",
    "                               dtype=sample.dtype)\n",
    "               for lazy_value in lazy_values[2]]\n",
    "\n",
    "lazy_arrays_3 = [da.from_delayed(lazy_value,\n",
    "                               shape=sample.shape,\n",
    "                               dtype=sample.dtype)\n",
    "               for lazy_value in lazy_values[3]]\n",
    "\n",
    "#Concatenate the ROIs\n",
    "foo = da.concatenate([lazy_arrays_0, lazy_arrays_1], axis = 2)\n",
    "foos = da.concatenate([lazy_arrays_2, lazy_arrays_3], axis = 2)\n",
    "a = da.concatenate([foo, foos], axis = 3)\n",
    "\n",
    "print(type(a), a.shape, a.dtype)\n",
    "print('Image-data on disk:', 2*round(a.size/(1024**3),2), 'GB (uncompressed)')\n",
    "print('Chunksize:', a.chunksize)\n",
    "print('Took', round(time.time()-start,2), 'sec')"
   ]
  },
  {
   "cell_type": "markdown",
   "metadata": {},
   "source": [
    "###  Initialize the GUI first"
   ]
  },
  {
   "cell_type": "code",
   "execution_count": null,
   "metadata": {},
   "outputs": [],
   "source": [
    "%gui qt5"
   ]
  },
  {
   "cell_type": "markdown",
   "metadata": {},
   "source": [
    "### Create a napari viewer and add the image as a layer"
   ]
  },
  {
   "cell_type": "code",
   "execution_count": null,
   "metadata": {},
   "outputs": [],
   "source": [
    "import napari\n",
    "viewer = napari.Viewer(axis_labels = ['t','z','y','x'])\n",
    "viewer.add_image(a,\n",
    "                 scale = [1,8,1,1],\n",
    "                 colormap='inferno',\n",
    "                 blending='additive',\n",
    "                 name='membrane',\n",
    "                 is_pyramid = False,\n",
    "                 rgb = False,\n",
    "                 contrast_limits = [10,255])"
   ]
  },
  {
   "cell_type": "markdown",
   "metadata": {},
   "source": [
    "#### Let's grab the 2nd color channel image-stacks and add it to the viewer"
   ]
  },
  {
   "cell_type": "code",
   "execution_count": null,
   "metadata": {},
   "outputs": [],
   "source": [
    "fnames = glob(join(inPath, '*/*CM00_CHN01.fusedStack.klb' ))\n",
    "fnames.sort()\n",
    "\n",
    "# For each ROI, lazily evaluate klb.readroi with dask.delayed \n",
    "lazy_values = [[dask.delayed(klb.readroi)(fn,ROIs_lobo[i], ROIs_upbo[i]) for fn in fnames] for i in range(len(ROIs_lobo))]\n",
    "\n",
    "#Construct lazy dask arrays for all lazy values\n",
    "lazy_arrays_0 = [da.from_delayed(lazy_value,\n",
    "                               shape=sample.shape,\n",
    "                               dtype=sample.dtype)\n",
    "               for lazy_value in lazy_values[0]]\n",
    "\n",
    "lazy_arrays_1 = [da.from_delayed(lazy_value,\n",
    "                               shape=sample.shape,\n",
    "                               dtype=sample.dtype)\n",
    "               for lazy_value in lazy_values[1]]\n",
    "\n",
    "lazy_arrays_2 = [da.from_delayed(lazy_value,\n",
    "                               shape=sample.shape,\n",
    "                               dtype=sample.dtype)\n",
    "               for lazy_value in lazy_values[2]]\n",
    "\n",
    "lazy_arrays_3 = [da.from_delayed(lazy_value,\n",
    "                               shape=sample.shape,\n",
    "                               dtype=sample.dtype)\n",
    "               for lazy_value in lazy_values[3]]\n",
    "\n",
    "#Concatenate the ROIs\n",
    "foo = da.concatenate([lazy_arrays_0, lazy_arrays_1], axis = 2)\n",
    "foos = da.concatenate([lazy_arrays_2, lazy_arrays_3], axis = 2)\n",
    "b = da.concatenate([foo, foos], axis = 3)\n",
    "\n",
    "viewer.add_image(b,\n",
    "                 scale = [1,8,1,1],\n",
    "                 colormap='green',\n",
    "                 blending='additive',\n",
    "                 name='nuclei',\n",
    "                 is_pyramid = False,\n",
    "                 rgb = False,\n",
    "                 contrast_limits = [10,355])"
   ]
  },
  {
   "cell_type": "markdown",
   "metadata": {},
   "source": [
    "#### Let's grab the orthogonal views and add those to the viewer too"
   ]
  },
  {
   "cell_type": "code",
   "execution_count": null,
   "metadata": {},
   "outputs": [],
   "source": [
    "fnames = glob(join(inPath, '*/*CM01_CHN00.fusedStack.klb' ))\n",
    "fnames.sort()\n",
    "\n",
    "# For each ROI, lazily evaluate klb.readroi with dask.delayed \n",
    "lazy_values = [[dask.delayed(klb.readroi)(fn,ROIs_lobo[i], ROIs_upbo[i]) for fn in fnames] for i in range(len(ROIs_lobo))]\n",
    "\n",
    "#Construct lazy dask arrays for all lazy values\n",
    "lazy_arrays_0 = [da.from_delayed(lazy_value,\n",
    "                               shape=sample.shape,\n",
    "                               dtype=sample.dtype)\n",
    "               for lazy_value in lazy_values[0]]\n",
    "\n",
    "lazy_arrays_1 = [da.from_delayed(lazy_value,\n",
    "                               shape=sample.shape,\n",
    "                               dtype=sample.dtype)\n",
    "               for lazy_value in lazy_values[1]]\n",
    "\n",
    "lazy_arrays_2 = [da.from_delayed(lazy_value,\n",
    "                               shape=sample.shape,\n",
    "                               dtype=sample.dtype)\n",
    "               for lazy_value in lazy_values[2]]\n",
    "\n",
    "lazy_arrays_3 = [da.from_delayed(lazy_value,\n",
    "                               shape=sample.shape,\n",
    "                               dtype=sample.dtype)\n",
    "               for lazy_value in lazy_values[3]]\n",
    "\n",
    "#Concatenate the ROIs\n",
    "foo = da.concatenate([lazy_arrays_0, lazy_arrays_1], axis = 2)\n",
    "foos = da.concatenate([lazy_arrays_2, lazy_arrays_3], axis = 2)\n",
    "c = da.concatenate([foo, foos], axis = 3)\n",
    "\n",
    "viewer.add_image(c,\n",
    "                 scale = [1,8,1,1],\n",
    "                 colormap='inferno',\n",
    "                 blending='additive',\n",
    "                 name='membrane, side-view',\n",
    "                 is_pyramid = False,\n",
    "                 rgb = False,\n",
    "                 contrast_limits = [10,255],\n",
    "                translate=[725,180])"
   ]
  },
  {
   "cell_type": "code",
   "execution_count": null,
   "metadata": {},
   "outputs": [],
   "source": [
    "fnames = glob(join(inPath, '*/*CM01_CHN01.fusedStack.klb' ))\n",
    "fnames.sort()\n",
    "\n",
    "# For each ROI, lazily evaluate klb.readroi with dask.delayed \n",
    "lazy_values = [[dask.delayed(klb.readroi)(fn,ROIs_lobo[i], ROIs_upbo[i]) for fn in fnames] for i in range(len(ROIs_lobo))]\n",
    "\n",
    "#Construct lazy dask arrays for all lazy values\n",
    "lazy_arrays_0 = [da.from_delayed(lazy_value,\n",
    "                               shape=sample.shape,\n",
    "                               dtype=sample.dtype)\n",
    "               for lazy_value in lazy_values[0]]\n",
    "\n",
    "lazy_arrays_1 = [da.from_delayed(lazy_value,\n",
    "                               shape=sample.shape,\n",
    "                               dtype=sample.dtype)\n",
    "               for lazy_value in lazy_values[1]]\n",
    "\n",
    "lazy_arrays_2 = [da.from_delayed(lazy_value,\n",
    "                               shape=sample.shape,\n",
    "                               dtype=sample.dtype)\n",
    "               for lazy_value in lazy_values[2]]\n",
    "\n",
    "lazy_arrays_3 = [da.from_delayed(lazy_value,\n",
    "                               shape=sample.shape,\n",
    "                               dtype=sample.dtype)\n",
    "               for lazy_value in lazy_values[3]]\n",
    "\n",
    "#Concatenate the ROIs\n",
    "foo = da.concatenate([lazy_arrays_0, lazy_arrays_1], axis = 2)\n",
    "foos = da.concatenate([lazy_arrays_2, lazy_arrays_3], axis = 2)\n",
    "d = da.concatenate([foo, foos], axis = 3)\n",
    "\n",
    "viewer.add_image(d,\n",
    "                 scale = [1,8,1,1],\n",
    "                 colormap='green',\n",
    "                 blending='additive',\n",
    "                 name='nuclei, side-view',\n",
    "                 is_pyramid = False,\n",
    "                 rgb = False,\n",
    "                 contrast_limits = [10,355],\n",
    "                translate=[725,180])"
   ]
  },
  {
   "cell_type": "code",
   "execution_count": null,
   "metadata": {},
   "outputs": [],
   "source": []
  }
 ],
 "metadata": {
  "kernelspec": {
   "display_name": "Python 3",
   "language": "python",
   "name": "python3"
  },
  "language_info": {
   "codemirror_mode": {
    "name": "ipython",
    "version": 3
   },
   "file_extension": ".py",
   "mimetype": "text/x-python",
   "name": "python",
   "nbconvert_exporter": "python",
   "pygments_lexer": "ipython3",
   "version": "3.7.4"
  }
 },
 "nbformat": 4,
 "nbformat_minor": 2
}
