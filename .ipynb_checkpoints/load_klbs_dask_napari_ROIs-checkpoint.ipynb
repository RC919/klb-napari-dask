{
 "cells": [
  {
   "cell_type": "code",
   "execution_count": 1,
   "metadata": {},
   "outputs": [
    {
     "name": "stderr",
     "output_type": "stream",
     "text": [
      "D:\\Anaconda3\\envs\\denoising\\lib\\site-packages\\numpy\\_distributor_init.py:32: UserWarning: loaded more than 1 DLL from .libs:\n",
      "D:\\Anaconda3\\envs\\denoising\\lib\\site-packages\\numpy\\.libs\\libopenblas.PYQHXLVVQ7VESDPUVUADXEVJOBGHJPAY.gfortran-win_amd64.dll\n",
      "D:\\Anaconda3\\envs\\denoising\\lib\\site-packages\\numpy\\.libs\\libopenblas.TXA6YQSD3GCQQC22GEQ54J2UDCXDXHWN.gfortran-win_amd64.dll\n",
      "  stacklevel=1)\n",
      "D:\\Anaconda3\\envs\\denoising\\lib\\site-packages\\napari\\__init__.py:27: UserWarning: \n",
      "    napari was tested with QT library `>=5.12.3`.\n",
      "    The version installed is 5.9.6. Please report any issues with this\n",
      "    specific QT version at https://github.com/Napari/napari/issues.\n",
      "    \n",
      "  warn(message=warn_message)\n"
     ]
    }
   ],
   "source": [
    "from os.path import join\n",
    "from glob import glob\n",
    "import numpy as np\n",
    "import dask\n",
    "import dask.array as da\n",
    "import pyklb as klb\n",
    "import napari\n",
    "import time"
   ]
  },
  {
   "cell_type": "code",
   "execution_count": 9,
   "metadata": {},
   "outputs": [
    {
     "name": "stderr",
     "output_type": "stream",
     "text": [
      "WARNING: QSocketNotifier: Multiple socket notifiers for same socket 740 and type Read\n"
     ]
    }
   ],
   "source": [
    "#Use opportunistic caching \n",
    "from dask.cache import Cache\n",
    "cache = Cache(8e9)  # Leverage some memory\n",
    "cache.register()    # Turn cache on globally"
   ]
  },
  {
   "cell_type": "code",
   "execution_count": 2,
   "metadata": {},
   "outputs": [],
   "source": [
    "inPath = 'W:/SV3/RC_15-06-11/Dme_E2_His2AvRFP_spiderGFP_12-03_20150611_155054.corrected/Results/TimeFused/'\n",
    "fnames = glob(join(inPath, '*/*CM00_CHN00.fusedStack.klb' ))\n",
    "fnames.sort()\n",
    "fnames = fnames[0:20]\n",
    "\n",
    "sample_full = klb.readfull(fnames[0]) #Sample image with klb.readfull\n",
    "z= sample_full.shape[0]\n",
    "y= sample_full.shape[1]\n",
    "x= sample_full.shape[2]"
   ]
  },
  {
   "cell_type": "code",
   "execution_count": 3,
   "metadata": {},
   "outputs": [
    {
     "name": "stdout",
     "output_type": "stream",
     "text": [
      "(75, 384, 924) uint16\n"
     ]
    }
   ],
   "source": [
    "# Segment each XY-image in the 3D stack is into a 2x2 grid\n",
    "\n",
    "# X and Y strides to segment the each XY-image\n",
    "y_stride= y/2\n",
    "x_stride= x/2\n",
    "\n",
    "ROIs_lobo = ([0,0,0],\n",
    "             [0,y_stride,0],\n",
    "             \n",
    "             [0,0,x_stride],\n",
    "             [0,y_stride,x_stride]) \n",
    "\n",
    "ROIs_upbo = ([z-1,y_stride-1,x_stride-1],\n",
    "             [z-1,2*y_stride-1,x_stride-1],\n",
    "             \n",
    "             [z-1,y_stride-1,2*x_stride-1],\n",
    "             [z-1,2*y_stride-1,2*x_stride-1])\n",
    "\n",
    "sample = klb.readroi(fnames[0], ROIs_lobo[0], ROIs_upbo[0]) #Sample image with klb.readroi\n",
    "print(sample.shape, sample.dtype)"
   ]
  },
  {
   "cell_type": "markdown",
   "metadata": {},
   "source": [
    "### Generate lazy arrays:"
   ]
  },
  {
   "cell_type": "code",
   "execution_count": 4,
   "metadata": {},
   "outputs": [],
   "source": [
    "# For each ROI, lazily evaluate klb.readroi with dask.delayed \n",
    "lazy_values = [[dask.delayed(klb.readroi)(fn,ROIs_lobo[i], ROIs_upbo[i]) for fn in fnames] for i in range(len(ROIs_lobo))]"
   ]
  },
  {
   "cell_type": "code",
   "execution_count": 5,
   "metadata": {},
   "outputs": [
    {
     "name": "stdout",
     "output_type": "stream",
     "text": [
      "<class 'dask.array.core.Array'> (20, 75, 768, 1848) uint16\n",
      "Image-data on disk: 3.96 GB (uncompressed)\n",
      "Chunksize: (1, 75, 384, 924)\n",
      "Took 0.01 sec\n"
     ]
    }
   ],
   "source": [
    "#Construct lazy dask arrays for all lazy values\n",
    "start = time.time()\n",
    "lazy_arrays_0 = [da.from_delayed(lazy_value,\n",
    "                               shape=sample.shape,\n",
    "                               dtype=sample.dtype)\n",
    "               for lazy_value in lazy_values[0]]\n",
    "\n",
    "lazy_arrays_1 = [da.from_delayed(lazy_value,\n",
    "                               shape=sample.shape,\n",
    "                               dtype=sample.dtype)\n",
    "               for lazy_value in lazy_values[1]]\n",
    "\n",
    "lazy_arrays_2 = [da.from_delayed(lazy_value,\n",
    "                               shape=sample.shape,\n",
    "                               dtype=sample.dtype)\n",
    "               for lazy_value in lazy_values[2]]\n",
    "\n",
    "lazy_arrays_3 = [da.from_delayed(lazy_value,\n",
    "                               shape=sample.shape,\n",
    "                               dtype=sample.dtype)\n",
    "               for lazy_value in lazy_values[3]]\n",
    "\n",
    "#Concatenate the ROIs\n",
    "foo = da.concatenate([lazy_arrays_0, lazy_arrays_1], axis = 2)\n",
    "foos = da.concatenate([lazy_arrays_2, lazy_arrays_3], axis = 2)\n",
    "a = da.concatenate([foo, foos], axis = 3)\n",
    "\n",
    "print(type(a), a.shape, a.dtype)\n",
    "print('Image-data on disk:', 2*round(a.size/(1024**3),2), 'GB (uncompressed)')\n",
    "print('Chunksize:', a.chunksize)\n",
    "print('Took', round(time.time()-start,2), 'sec')"
   ]
  },
  {
   "cell_type": "code",
   "execution_count": 6,
   "metadata": {},
   "outputs": [
    {
     "data": {
      "text/html": [
       "<table>\n",
       "<tr>\n",
       "<td>\n",
       "<table>\n",
       "  <thead>\n",
       "    <tr><td> </td><th> Array </th><th> Chunk </th></tr>\n",
       "  </thead>\n",
       "  <tbody>\n",
       "    <tr><th> Bytes </th><td> 4.26 GB </td> <td> 53.22 MB </td></tr>\n",
       "    <tr><th> Shape </th><td> (20, 75, 768, 1848) </td> <td> (1, 75, 384, 924) </td></tr>\n",
       "    <tr><th> Count </th><td> 400 Tasks </td><td> 80 Chunks </td></tr>\n",
       "    <tr><th> Type </th><td> uint16 </td><td> numpy.ndarray </td></tr>\n",
       "  </tbody>\n",
       "</table>\n",
       "</td>\n",
       "<td>\n",
       "<svg width=\"379\" height=\"119\" style=\"stroke:rgb(0,0,0);stroke-width:1\" >\n",
       "\n",
       "  <!-- Horizontal lines -->\n",
       "  <line x1=\"0\" y1=\"0\" x2=\"25\" y2=\"0\" style=\"stroke-width:2\" />\n",
       "  <line x1=\"0\" y1=\"25\" x2=\"25\" y2=\"25\" style=\"stroke-width:2\" />\n",
       "\n",
       "  <!-- Vertical lines -->\n",
       "  <line x1=\"0\" y1=\"0\" x2=\"0\" y2=\"25\" style=\"stroke-width:2\" />\n",
       "  <line x1=\"1\" y1=\"0\" x2=\"1\" y2=\"25\" />\n",
       "  <line x1=\"2\" y1=\"0\" x2=\"2\" y2=\"25\" />\n",
       "  <line x1=\"3\" y1=\"0\" x2=\"3\" y2=\"25\" />\n",
       "  <line x1=\"5\" y1=\"0\" x2=\"5\" y2=\"25\" />\n",
       "  <line x1=\"6\" y1=\"0\" x2=\"6\" y2=\"25\" />\n",
       "  <line x1=\"7\" y1=\"0\" x2=\"7\" y2=\"25\" />\n",
       "  <line x1=\"9\" y1=\"0\" x2=\"9\" y2=\"25\" />\n",
       "  <line x1=\"10\" y1=\"0\" x2=\"10\" y2=\"25\" />\n",
       "  <line x1=\"11\" y1=\"0\" x2=\"11\" y2=\"25\" />\n",
       "  <line x1=\"12\" y1=\"0\" x2=\"12\" y2=\"25\" />\n",
       "  <line x1=\"14\" y1=\"0\" x2=\"14\" y2=\"25\" />\n",
       "  <line x1=\"15\" y1=\"0\" x2=\"15\" y2=\"25\" />\n",
       "  <line x1=\"16\" y1=\"0\" x2=\"16\" y2=\"25\" />\n",
       "  <line x1=\"18\" y1=\"0\" x2=\"18\" y2=\"25\" />\n",
       "  <line x1=\"19\" y1=\"0\" x2=\"19\" y2=\"25\" />\n",
       "  <line x1=\"20\" y1=\"0\" x2=\"20\" y2=\"25\" />\n",
       "  <line x1=\"21\" y1=\"0\" x2=\"21\" y2=\"25\" />\n",
       "  <line x1=\"23\" y1=\"0\" x2=\"23\" y2=\"25\" />\n",
       "  <line x1=\"24\" y1=\"0\" x2=\"24\" y2=\"25\" />\n",
       "  <line x1=\"25\" y1=\"0\" x2=\"25\" y2=\"25\" style=\"stroke-width:2\" />\n",
       "\n",
       "  <!-- Colored Rectangle -->\n",
       "  <polygon points=\"0.000000,0.000000 25.795059,0.000000 25.795059,25.412617 0.000000,25.412617\" style=\"fill:#ECB172A0;stroke-width:0\"/>\n",
       "\n",
       "  <!-- Text -->\n",
       "  <text x=\"12.897529\" y=\"45.412617\" font-size=\"1.0rem\" font-weight=\"100\" text-anchor=\"middle\" >20</text>\n",
       "  <text x=\"45.795059\" y=\"12.706308\" font-size=\"1.0rem\" font-weight=\"100\" text-anchor=\"middle\" transform=\"rotate(0,45.795059,12.706308)\">1</text>\n",
       "\n",
       "\n",
       "  <!-- Horizontal lines -->\n",
       "  <line x1=\"95\" y1=\"0\" x2=\"114\" y2=\"19\" style=\"stroke-width:2\" />\n",
       "  <line x1=\"95\" y1=\"24\" x2=\"114\" y2=\"44\" />\n",
       "  <line x1=\"95\" y1=\"49\" x2=\"114\" y2=\"69\" style=\"stroke-width:2\" />\n",
       "\n",
       "  <!-- Vertical lines -->\n",
       "  <line x1=\"95\" y1=\"0\" x2=\"95\" y2=\"49\" style=\"stroke-width:2\" />\n",
       "  <line x1=\"114\" y1=\"19\" x2=\"114\" y2=\"69\" style=\"stroke-width:2\" />\n",
       "\n",
       "  <!-- Colored Rectangle -->\n",
       "  <polygon points=\"95.000000,0.000000 114.542709,19.542709 114.542709,69.412839 95.000000,49.870130\" style=\"fill:#ECB172A0;stroke-width:0\"/>\n",
       "\n",
       "  <!-- Horizontal lines -->\n",
       "  <line x1=\"95\" y1=\"0\" x2=\"215\" y2=\"0\" style=\"stroke-width:2\" />\n",
       "  <line x1=\"114\" y1=\"19\" x2=\"234\" y2=\"19\" style=\"stroke-width:2\" />\n",
       "\n",
       "  <!-- Vertical lines -->\n",
       "  <line x1=\"95\" y1=\"0\" x2=\"114\" y2=\"19\" style=\"stroke-width:2\" />\n",
       "  <line x1=\"155\" y1=\"0\" x2=\"174\" y2=\"19\" />\n",
       "  <line x1=\"215\" y1=\"0\" x2=\"234\" y2=\"19\" style=\"stroke-width:2\" />\n",
       "\n",
       "  <!-- Colored Rectangle -->\n",
       "  <polygon points=\"95.000000,0.000000 215.000000,0.000000 234.542709,19.542709 114.542709,19.542709\" style=\"fill:#ECB172A0;stroke-width:0\"/>\n",
       "\n",
       "  <!-- Horizontal lines -->\n",
       "  <line x1=\"114\" y1=\"19\" x2=\"234\" y2=\"19\" style=\"stroke-width:2\" />\n",
       "  <line x1=\"114\" y1=\"44\" x2=\"234\" y2=\"44\" />\n",
       "  <line x1=\"114\" y1=\"69\" x2=\"234\" y2=\"69\" style=\"stroke-width:2\" />\n",
       "\n",
       "  <!-- Vertical lines -->\n",
       "  <line x1=\"114\" y1=\"19\" x2=\"114\" y2=\"69\" style=\"stroke-width:2\" />\n",
       "  <line x1=\"174\" y1=\"19\" x2=\"174\" y2=\"69\" />\n",
       "  <line x1=\"234\" y1=\"19\" x2=\"234\" y2=\"69\" style=\"stroke-width:2\" />\n",
       "\n",
       "  <!-- Colored Rectangle -->\n",
       "  <polygon points=\"114.542709,19.542709 234.542709,19.542709 234.542709,69.412839 114.542709,69.412839\" style=\"fill:#ECB172A0;stroke-width:0\"/>\n",
       "\n",
       "  <!-- Text -->\n",
       "  <text x=\"174.542709\" y=\"89.412839\" font-size=\"1.0rem\" font-weight=\"100\" text-anchor=\"middle\" >1848</text>\n",
       "  <text x=\"254.542709\" y=\"44.477774\" font-size=\"1.0rem\" font-weight=\"100\" text-anchor=\"middle\" transform=\"rotate(-90,254.542709,44.477774)\">768</text>\n",
       "  <text x=\"94.771355\" y=\"79.641485\" font-size=\"1.0rem\" font-weight=\"100\" text-anchor=\"middle\" transform=\"rotate(45,94.771355,79.641485)\">75</text>\n",
       "</svg>\n",
       "</td>\n",
       "</tr>\n",
       "</table>"
      ],
      "text/plain": [
       "dask.array<concatenate, shape=(20, 75, 768, 1848), dtype=uint16, chunksize=(1, 75, 384, 924), chunktype=numpy.ndarray>"
      ]
     },
     "execution_count": 6,
     "metadata": {},
     "output_type": "execute_result"
    }
   ],
   "source": [
    "#Visual of the dask stack and the chunk\n",
    "a"
   ]
  },
  {
   "cell_type": "markdown",
   "metadata": {},
   "source": [
    "###  Initialize the GUI first"
   ]
  },
  {
   "cell_type": "code",
   "execution_count": 7,
   "metadata": {},
   "outputs": [],
   "source": [
    "%gui qt5"
   ]
  },
  {
   "cell_type": "markdown",
   "metadata": {},
   "source": [
    "### Create a napari viewer and add the image as a layer"
   ]
  },
  {
   "cell_type": "code",
   "execution_count": 8,
   "metadata": {},
   "outputs": [
    {
     "data": {
      "text/plain": [
       "<Image layer 'membrane' at 0x21042fe9748>"
      ]
     },
     "execution_count": 8,
     "metadata": {},
     "output_type": "execute_result"
    }
   ],
   "source": [
    "import napari\n",
    "viewer = napari.Viewer(axis_labels = ['t','z','y','x'])\n",
    "viewer.add_image(a,\n",
    "                 scale = [1,8,1,1],\n",
    "                 colormap='inferno',\n",
    "                 blending='additive',\n",
    "                 name='membrane',\n",
    "                 is_pyramid = False,\n",
    "                 rgb = False,\n",
    "                 contrast_limits = [10,255])"
   ]
  },
  {
   "cell_type": "markdown",
   "metadata": {},
   "source": [
    "#### Let's grab the 2nd color channel image-stacks and add it to the viewer"
   ]
  },
  {
   "cell_type": "code",
   "execution_count": null,
   "metadata": {},
   "outputs": [],
   "source": [
    "fnames = glob(join(inPath, '*/*CM00_CHN01.fusedStack.klb' ))\n",
    "fnames.sort()\n",
    "\n",
    "# For each ROI, lazily evaluate klb.readroi with dask.delayed \n",
    "lazy_values = [[dask.delayed(klb.readroi)(fn,ROIs_lobo[i], ROIs_upbo[i]) for fn in fnames] for i in range(len(ROIs_lobo))]\n",
    "\n",
    "#Construct lazy dask arrays for all lazy values\n",
    "lazy_arrays_0 = [da.from_delayed(lazy_value,\n",
    "                               shape=sample.shape,\n",
    "                               dtype=sample.dtype)\n",
    "               for lazy_value in lazy_values[0]]\n",
    "\n",
    "lazy_arrays_1 = [da.from_delayed(lazy_value,\n",
    "                               shape=sample.shape,\n",
    "                               dtype=sample.dtype)\n",
    "               for lazy_value in lazy_values[1]]\n",
    "\n",
    "lazy_arrays_2 = [da.from_delayed(lazy_value,\n",
    "                               shape=sample.shape,\n",
    "                               dtype=sample.dtype)\n",
    "               for lazy_value in lazy_values[2]]\n",
    "\n",
    "lazy_arrays_3 = [da.from_delayed(lazy_value,\n",
    "                               shape=sample.shape,\n",
    "                               dtype=sample.dtype)\n",
    "               for lazy_value in lazy_values[3]]\n",
    "\n",
    "#Concatenate the ROIs\n",
    "foo = da.concatenate([lazy_arrays_0, lazy_arrays_1], axis = 2)\n",
    "foos = da.concatenate([lazy_arrays_2, lazy_arrays_3], axis = 2)\n",
    "b = da.concatenate([foo, foos], axis = 3)\n",
    "\n",
    "viewer.add_image(b,\n",
    "                 scale = [1,8,1,1],\n",
    "                 colormap='green',\n",
    "                 blending='additive',\n",
    "                 name='nuclei',\n",
    "                 is_pyramid = False,\n",
    "                 rgb = False,\n",
    "                 contrast_limits = [10,355])"
   ]
  },
  {
   "cell_type": "markdown",
   "metadata": {},
   "source": [
    "#### Let's grab the orthogonal views and add those to the viewer too"
   ]
  },
  {
   "cell_type": "code",
   "execution_count": null,
   "metadata": {},
   "outputs": [],
   "source": [
    "fnames = glob(join(inPath, '*/*CM01_CHN00.fusedStack.klb' ))\n",
    "fnames.sort()\n",
    "\n",
    "# For each ROI, lazily evaluate klb.readroi with dask.delayed \n",
    "lazy_values = [[dask.delayed(klb.readroi)(fn,ROIs_lobo[i], ROIs_upbo[i]) for fn in fnames] for i in range(len(ROIs_lobo))]\n",
    "\n",
    "#Construct lazy dask arrays for all lazy values\n",
    "lazy_arrays_0 = [da.from_delayed(lazy_value,\n",
    "                               shape=sample.shape,\n",
    "                               dtype=sample.dtype)\n",
    "               for lazy_value in lazy_values[0]]\n",
    "\n",
    "lazy_arrays_1 = [da.from_delayed(lazy_value,\n",
    "                               shape=sample.shape,\n",
    "                               dtype=sample.dtype)\n",
    "               for lazy_value in lazy_values[1]]\n",
    "\n",
    "lazy_arrays_2 = [da.from_delayed(lazy_value,\n",
    "                               shape=sample.shape,\n",
    "                               dtype=sample.dtype)\n",
    "               for lazy_value in lazy_values[2]]\n",
    "\n",
    "lazy_arrays_3 = [da.from_delayed(lazy_value,\n",
    "                               shape=sample.shape,\n",
    "                               dtype=sample.dtype)\n",
    "               for lazy_value in lazy_values[3]]\n",
    "\n",
    "#Concatenate the ROIs\n",
    "foo = da.concatenate([lazy_arrays_0, lazy_arrays_1], axis = 2)\n",
    "foos = da.concatenate([lazy_arrays_2, lazy_arrays_3], axis = 2)\n",
    "c = da.concatenate([foo, foos], axis = 3)\n",
    "\n",
    "viewer.add_image(c,\n",
    "                 scale = [1,8,1,1],\n",
    "                 colormap='inferno',\n",
    "                 blending='additive',\n",
    "                 name='membrane, side-view',\n",
    "                 is_pyramid = False,\n",
    "                 rgb = False,\n",
    "                 contrast_limits = [10,255],\n",
    "                translate=[725,180])"
   ]
  },
  {
   "cell_type": "code",
   "execution_count": null,
   "metadata": {},
   "outputs": [],
   "source": [
    "fnames = glob(join(inPath, '*/*CM01_CHN01.fusedStack.klb' ))\n",
    "fnames.sort()\n",
    "\n",
    "# For each ROI, lazily evaluate klb.readroi with dask.delayed \n",
    "lazy_values = [[dask.delayed(klb.readroi)(fn,ROIs_lobo[i], ROIs_upbo[i]) for fn in fnames] for i in range(len(ROIs_lobo))]\n",
    "\n",
    "#Construct lazy dask arrays for all lazy values\n",
    "lazy_arrays_0 = [da.from_delayed(lazy_value,\n",
    "                               shape=sample.shape,\n",
    "                               dtype=sample.dtype)\n",
    "               for lazy_value in lazy_values[0]]\n",
    "\n",
    "lazy_arrays_1 = [da.from_delayed(lazy_value,\n",
    "                               shape=sample.shape,\n",
    "                               dtype=sample.dtype)\n",
    "               for lazy_value in lazy_values[1]]\n",
    "\n",
    "lazy_arrays_2 = [da.from_delayed(lazy_value,\n",
    "                               shape=sample.shape,\n",
    "                               dtype=sample.dtype)\n",
    "               for lazy_value in lazy_values[2]]\n",
    "\n",
    "lazy_arrays_3 = [da.from_delayed(lazy_value,\n",
    "                               shape=sample.shape,\n",
    "                               dtype=sample.dtype)\n",
    "               for lazy_value in lazy_values[3]]\n",
    "\n",
    "#Concatenate the ROIs\n",
    "foo = da.concatenate([lazy_arrays_0, lazy_arrays_1], axis = 2)\n",
    "foos = da.concatenate([lazy_arrays_2, lazy_arrays_3], axis = 2)\n",
    "d = da.concatenate([foo, foos], axis = 3)\n",
    "\n",
    "viewer.add_image(d,\n",
    "                 scale = [1,8,1,1],\n",
    "                 colormap='green',\n",
    "                 blending='additive',\n",
    "                 name='nuclei, side-view',\n",
    "                 is_pyramid = False,\n",
    "                 rgb = False,\n",
    "                 contrast_limits = [10,355],\n",
    "                translate=[725,180])"
   ]
  },
  {
   "cell_type": "code",
   "execution_count": null,
   "metadata": {},
   "outputs": [],
   "source": []
  }
 ],
 "metadata": {
  "kernelspec": {
   "display_name": "Python 3",
   "language": "python",
   "name": "python3"
  },
  "language_info": {
   "codemirror_mode": {
    "name": "ipython",
    "version": 3
   },
   "file_extension": ".py",
   "mimetype": "text/x-python",
   "name": "python",
   "nbconvert_exporter": "python",
   "pygments_lexer": "ipython3",
   "version": "3.7.4"
  }
 },
 "nbformat": 4,
 "nbformat_minor": 2
}
